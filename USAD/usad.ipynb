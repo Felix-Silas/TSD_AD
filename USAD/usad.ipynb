{
 "cells": [
  {
   "cell_type": "code",
   "execution_count": 1,
   "metadata": {},
   "outputs": [],
   "source": [
    "import numpy as np\n",
    "import pandas as pd\n",
    "import matplotlib.pyplot as plt\n",
    "import seaborn as sns\n",
    "import torch\n",
    "import torch.nn as nn\n",
    "\n",
    "from utils import *\n",
    "from model import *"
   ]
  },
  {
   "cell_type": "code",
   "execution_count": 2,
   "metadata": {},
   "outputs": [],
   "source": [
    "device = get_default_device()"
   ]
  },
  {
   "cell_type": "code",
   "execution_count": 3,
   "metadata": {},
   "outputs": [
    {
     "name": "stderr",
     "output_type": "stream",
     "text": [
      "C:\\Users\\ygeun\\AppData\\Local\\Temp\\ipykernel_19028\\532795937.py:1: DtypeWarning: Columns (26) have mixed types. Specify dtype option on import or set low_memory=False.\n",
      "  normal = pd.read_csv('input/swat_normal.csv')\n"
     ]
    },
    {
     "data": {
      "text/html": [
       "<div>\n",
       "<style scoped>\n",
       "    .dataframe tbody tr th:only-of-type {\n",
       "        vertical-align: middle;\n",
       "    }\n",
       "\n",
       "    .dataframe tbody tr th {\n",
       "        vertical-align: top;\n",
       "    }\n",
       "\n",
       "    .dataframe thead th {\n",
       "        text-align: right;\n",
       "    }\n",
       "</style>\n",
       "<table border=\"1\" class=\"dataframe\">\n",
       "  <thead>\n",
       "    <tr style=\"text-align: right;\">\n",
       "      <th></th>\n",
       "      <th>Timestamp</th>\n",
       "      <th>FIT101</th>\n",
       "      <th>LIT101</th>\n",
       "      <th>MV101</th>\n",
       "      <th>P101</th>\n",
       "      <th>P102</th>\n",
       "      <th>AIT201</th>\n",
       "      <th>AIT202</th>\n",
       "      <th>AIT203</th>\n",
       "      <th>FIT201</th>\n",
       "      <th>...</th>\n",
       "      <th>P501</th>\n",
       "      <th>P502</th>\n",
       "      <th>PIT501</th>\n",
       "      <th>PIT502</th>\n",
       "      <th>PIT503</th>\n",
       "      <th>FIT601</th>\n",
       "      <th>P601</th>\n",
       "      <th>P602</th>\n",
       "      <th>P603</th>\n",
       "      <th>Normal/Attack</th>\n",
       "    </tr>\n",
       "  </thead>\n",
       "  <tbody>\n",
       "    <tr>\n",
       "      <th>0</th>\n",
       "      <td>22/12/2015 4:30:00 PM</td>\n",
       "      <td>0</td>\n",
       "      <td>124,3135</td>\n",
       "      <td>1</td>\n",
       "      <td>1</td>\n",
       "      <td>1</td>\n",
       "      <td>251,9226</td>\n",
       "      <td>8,313446</td>\n",
       "      <td>312,7916</td>\n",
       "      <td>0</td>\n",
       "      <td>...</td>\n",
       "      <td>1</td>\n",
       "      <td>1</td>\n",
       "      <td>9,100231</td>\n",
       "      <td>0</td>\n",
       "      <td>3,3485</td>\n",
       "      <td>0,0002563035</td>\n",
       "      <td>1</td>\n",
       "      <td>1</td>\n",
       "      <td>1</td>\n",
       "      <td>Normal</td>\n",
       "    </tr>\n",
       "    <tr>\n",
       "      <th>1</th>\n",
       "      <td>22/12/2015 4:30:01 PM</td>\n",
       "      <td>0</td>\n",
       "      <td>124,392</td>\n",
       "      <td>1</td>\n",
       "      <td>1</td>\n",
       "      <td>1</td>\n",
       "      <td>251,9226</td>\n",
       "      <td>8,313446</td>\n",
       "      <td>312,7916</td>\n",
       "      <td>0</td>\n",
       "      <td>...</td>\n",
       "      <td>1</td>\n",
       "      <td>1</td>\n",
       "      <td>9,100231</td>\n",
       "      <td>0</td>\n",
       "      <td>3,3485</td>\n",
       "      <td>0,0002563035</td>\n",
       "      <td>1</td>\n",
       "      <td>1</td>\n",
       "      <td>1</td>\n",
       "      <td>Normal</td>\n",
       "    </tr>\n",
       "    <tr>\n",
       "      <th>2</th>\n",
       "      <td>22/12/2015 4:30:02 PM</td>\n",
       "      <td>0</td>\n",
       "      <td>124,4705</td>\n",
       "      <td>1</td>\n",
       "      <td>1</td>\n",
       "      <td>1</td>\n",
       "      <td>251,9226</td>\n",
       "      <td>8,313446</td>\n",
       "      <td>312,7916</td>\n",
       "      <td>0</td>\n",
       "      <td>...</td>\n",
       "      <td>1</td>\n",
       "      <td>1</td>\n",
       "      <td>9,100231</td>\n",
       "      <td>0</td>\n",
       "      <td>3,3485</td>\n",
       "      <td>0,0002563035</td>\n",
       "      <td>1</td>\n",
       "      <td>1</td>\n",
       "      <td>1</td>\n",
       "      <td>Normal</td>\n",
       "    </tr>\n",
       "    <tr>\n",
       "      <th>3</th>\n",
       "      <td>22/12/2015 4:30:03 PM</td>\n",
       "      <td>0</td>\n",
       "      <td>124,6668</td>\n",
       "      <td>1</td>\n",
       "      <td>1</td>\n",
       "      <td>1</td>\n",
       "      <td>251,9226</td>\n",
       "      <td>8,313446</td>\n",
       "      <td>312,7916</td>\n",
       "      <td>0</td>\n",
       "      <td>...</td>\n",
       "      <td>1</td>\n",
       "      <td>1</td>\n",
       "      <td>9,100231</td>\n",
       "      <td>0</td>\n",
       "      <td>3,3485</td>\n",
       "      <td>0,0002563035</td>\n",
       "      <td>1</td>\n",
       "      <td>1</td>\n",
       "      <td>1</td>\n",
       "      <td>Normal</td>\n",
       "    </tr>\n",
       "    <tr>\n",
       "      <th>4</th>\n",
       "      <td>22/12/2015 4:30:04 PM</td>\n",
       "      <td>0</td>\n",
       "      <td>124,5098</td>\n",
       "      <td>1</td>\n",
       "      <td>1</td>\n",
       "      <td>1</td>\n",
       "      <td>251,9226</td>\n",
       "      <td>8,313446</td>\n",
       "      <td>312,7916</td>\n",
       "      <td>0</td>\n",
       "      <td>...</td>\n",
       "      <td>1</td>\n",
       "      <td>1</td>\n",
       "      <td>9,100231</td>\n",
       "      <td>0</td>\n",
       "      <td>3,3485</td>\n",
       "      <td>0,0002563035</td>\n",
       "      <td>1</td>\n",
       "      <td>1</td>\n",
       "      <td>1</td>\n",
       "      <td>Normal</td>\n",
       "    </tr>\n",
       "    <tr>\n",
       "      <th>...</th>\n",
       "      <td>...</td>\n",
       "      <td>...</td>\n",
       "      <td>...</td>\n",
       "      <td>...</td>\n",
       "      <td>...</td>\n",
       "      <td>...</td>\n",
       "      <td>...</td>\n",
       "      <td>...</td>\n",
       "      <td>...</td>\n",
       "      <td>...</td>\n",
       "      <td>...</td>\n",
       "      <td>...</td>\n",
       "      <td>...</td>\n",
       "      <td>...</td>\n",
       "      <td>...</td>\n",
       "      <td>...</td>\n",
       "      <td>...</td>\n",
       "      <td>...</td>\n",
       "      <td>...</td>\n",
       "      <td>...</td>\n",
       "      <td>...</td>\n",
       "    </tr>\n",
       "    <tr>\n",
       "      <th>494995</th>\n",
       "      <td>28/12/2015 9:59:55 AM</td>\n",
       "      <td>2,460366</td>\n",
       "      <td>523,043</td>\n",
       "      <td>2</td>\n",
       "      <td>2</td>\n",
       "      <td>1</td>\n",
       "      <td>262,0161</td>\n",
       "      <td>8,396437</td>\n",
       "      <td>328,5055</td>\n",
       "      <td>2,442316</td>\n",
       "      <td>...</td>\n",
       "      <td>2</td>\n",
       "      <td>1</td>\n",
       "      <td>250,8171</td>\n",
       "      <td>1,778105</td>\n",
       "      <td>189,8552</td>\n",
       "      <td>0,0001281517</td>\n",
       "      <td>1</td>\n",
       "      <td>1</td>\n",
       "      <td>1</td>\n",
       "      <td>Normal</td>\n",
       "    </tr>\n",
       "    <tr>\n",
       "      <th>494996</th>\n",
       "      <td>28/12/2015 9:59:56 AM</td>\n",
       "      <td>2,448836</td>\n",
       "      <td>522,9645</td>\n",
       "      <td>2</td>\n",
       "      <td>2</td>\n",
       "      <td>1</td>\n",
       "      <td>262,0161</td>\n",
       "      <td>8,396437</td>\n",
       "      <td>328,5055</td>\n",
       "      <td>2,442316</td>\n",
       "      <td>...</td>\n",
       "      <td>2</td>\n",
       "      <td>1</td>\n",
       "      <td>250,8171</td>\n",
       "      <td>1,778105</td>\n",
       "      <td>189,5027</td>\n",
       "      <td>0,0001281517</td>\n",
       "      <td>1</td>\n",
       "      <td>1</td>\n",
       "      <td>1</td>\n",
       "      <td>Normal</td>\n",
       "    </tr>\n",
       "    <tr>\n",
       "      <th>494997</th>\n",
       "      <td>28/12/2015 9:59:57 AM</td>\n",
       "      <td>2,434744</td>\n",
       "      <td>522,886</td>\n",
       "      <td>2</td>\n",
       "      <td>2</td>\n",
       "      <td>1</td>\n",
       "      <td>262,0161</td>\n",
       "      <td>8,396437</td>\n",
       "      <td>328,6337</td>\n",
       "      <td>2,444879</td>\n",
       "      <td>...</td>\n",
       "      <td>2</td>\n",
       "      <td>1</td>\n",
       "      <td>250,8171</td>\n",
       "      <td>1,778105</td>\n",
       "      <td>189,5027</td>\n",
       "      <td>0,0001281517</td>\n",
       "      <td>1</td>\n",
       "      <td>1</td>\n",
       "      <td>1</td>\n",
       "      <td>Normal</td>\n",
       "    </tr>\n",
       "    <tr>\n",
       "      <th>494998</th>\n",
       "      <td>28/12/2015 9:59:58 AM</td>\n",
       "      <td>2,428338</td>\n",
       "      <td>522,9252</td>\n",
       "      <td>2</td>\n",
       "      <td>2</td>\n",
       "      <td>1</td>\n",
       "      <td>262,0161</td>\n",
       "      <td>8,396437</td>\n",
       "      <td>328,6337</td>\n",
       "      <td>2,445391</td>\n",
       "      <td>...</td>\n",
       "      <td>2</td>\n",
       "      <td>1</td>\n",
       "      <td>250,8171</td>\n",
       "      <td>1,649953</td>\n",
       "      <td>189,5027</td>\n",
       "      <td>0,0001281517</td>\n",
       "      <td>1</td>\n",
       "      <td>1</td>\n",
       "      <td>1</td>\n",
       "      <td>Normal</td>\n",
       "    </tr>\n",
       "    <tr>\n",
       "      <th>494999</th>\n",
       "      <td>28/12/2015 9:59:59 AM</td>\n",
       "      <td>2,427057</td>\n",
       "      <td>522,8467</td>\n",
       "      <td>2</td>\n",
       "      <td>2</td>\n",
       "      <td>1</td>\n",
       "      <td>262,0161</td>\n",
       "      <td>8,396437</td>\n",
       "      <td>328,6337</td>\n",
       "      <td>2,445391</td>\n",
       "      <td>...</td>\n",
       "      <td>2</td>\n",
       "      <td>1</td>\n",
       "      <td>250,8652</td>\n",
       "      <td>1,649953</td>\n",
       "      <td>189,5988</td>\n",
       "      <td>0,0001281517</td>\n",
       "      <td>1</td>\n",
       "      <td>1</td>\n",
       "      <td>1</td>\n",
       "      <td>Normal</td>\n",
       "    </tr>\n",
       "  </tbody>\n",
       "</table>\n",
       "<p>495000 rows × 53 columns</p>\n",
       "</div>"
      ],
      "text/plain": [
       "                     Timestamp    FIT101    LIT101  MV101  P101  P102  \\\n",
       "0        22/12/2015 4:30:00 PM         0  124,3135      1     1     1   \n",
       "1        22/12/2015 4:30:01 PM         0   124,392      1     1     1   \n",
       "2        22/12/2015 4:30:02 PM         0  124,4705      1     1     1   \n",
       "3        22/12/2015 4:30:03 PM         0  124,6668      1     1     1   \n",
       "4        22/12/2015 4:30:04 PM         0  124,5098      1     1     1   \n",
       "...                        ...       ...       ...    ...   ...   ...   \n",
       "494995   28/12/2015 9:59:55 AM  2,460366   523,043      2     2     1   \n",
       "494996   28/12/2015 9:59:56 AM  2,448836  522,9645      2     2     1   \n",
       "494997   28/12/2015 9:59:57 AM  2,434744   522,886      2     2     1   \n",
       "494998   28/12/2015 9:59:58 AM  2,428338  522,9252      2     2     1   \n",
       "494999   28/12/2015 9:59:59 AM  2,427057  522,8467      2     2     1   \n",
       "\n",
       "          AIT201    AIT202    AIT203    FIT201  ...  P501  P502    PIT501  \\\n",
       "0       251,9226  8,313446  312,7916         0  ...     1     1  9,100231   \n",
       "1       251,9226  8,313446  312,7916         0  ...     1     1  9,100231   \n",
       "2       251,9226  8,313446  312,7916         0  ...     1     1  9,100231   \n",
       "3       251,9226  8,313446  312,7916         0  ...     1     1  9,100231   \n",
       "4       251,9226  8,313446  312,7916         0  ...     1     1  9,100231   \n",
       "...          ...       ...       ...       ...  ...   ...   ...       ...   \n",
       "494995  262,0161  8,396437  328,5055  2,442316  ...     2     1  250,8171   \n",
       "494996  262,0161  8,396437  328,5055  2,442316  ...     2     1  250,8171   \n",
       "494997  262,0161  8,396437  328,6337  2,444879  ...     2     1  250,8171   \n",
       "494998  262,0161  8,396437  328,6337  2,445391  ...     2     1  250,8171   \n",
       "494999  262,0161  8,396437  328,6337  2,445391  ...     2     1  250,8652   \n",
       "\n",
       "          PIT502    PIT503        FIT601  P601 P602 P603 Normal/Attack  \n",
       "0              0    3,3485  0,0002563035     1    1    1        Normal  \n",
       "1              0    3,3485  0,0002563035     1    1    1        Normal  \n",
       "2              0    3,3485  0,0002563035     1    1    1        Normal  \n",
       "3              0    3,3485  0,0002563035     1    1    1        Normal  \n",
       "4              0    3,3485  0,0002563035     1    1    1        Normal  \n",
       "...          ...       ...           ...   ...  ...  ...           ...  \n",
       "494995  1,778105  189,8552  0,0001281517     1    1    1        Normal  \n",
       "494996  1,778105  189,5027  0,0001281517     1    1    1        Normal  \n",
       "494997  1,778105  189,5027  0,0001281517     1    1    1        Normal  \n",
       "494998  1,649953  189,5027  0,0001281517     1    1    1        Normal  \n",
       "494999  1,649953  189,5988  0,0001281517     1    1    1        Normal  \n",
       "\n",
       "[495000 rows x 53 columns]"
      ]
     },
     "execution_count": 3,
     "metadata": {},
     "output_type": "execute_result"
    }
   ],
   "source": [
    "normal = pd.read_csv('input/swat_normal.csv')\n",
    "\n",
    "normal"
   ]
  },
  {
   "cell_type": "code",
   "execution_count": 4,
   "metadata": {},
   "outputs": [
    {
     "data": {
      "text/plain": [
       "['Timestamp',\n",
       " 'FIT101',\n",
       " 'LIT101',\n",
       " 'MV101',\n",
       " 'P101',\n",
       " 'P102',\n",
       " 'AIT201',\n",
       " 'AIT202',\n",
       " 'AIT203',\n",
       " 'FIT201',\n",
       " 'MV201',\n",
       " 'P201',\n",
       " 'P202',\n",
       " 'P203',\n",
       " 'P204',\n",
       " 'P205',\n",
       " 'P206',\n",
       " 'DPIT301',\n",
       " 'FIT301',\n",
       " 'LIT301',\n",
       " 'MV301',\n",
       " 'MV302',\n",
       " 'MV303',\n",
       " 'MV304',\n",
       " 'P301',\n",
       " 'P302',\n",
       " 'AIT401',\n",
       " 'AIT402',\n",
       " 'FIT401',\n",
       " 'LIT401',\n",
       " 'P401',\n",
       " 'P402',\n",
       " 'P403',\n",
       " 'P404',\n",
       " 'UV401',\n",
       " 'AIT501',\n",
       " 'AIT502',\n",
       " 'AIT503',\n",
       " 'AIT504',\n",
       " 'FIT501',\n",
       " 'FIT502',\n",
       " 'FIT503',\n",
       " 'FIT504',\n",
       " 'P501',\n",
       " 'P502',\n",
       " 'PIT501',\n",
       " 'PIT502',\n",
       " 'PIT503',\n",
       " 'FIT601',\n",
       " 'P601',\n",
       " 'P602',\n",
       " 'P603',\n",
       " 'Normal/Attack']"
      ]
     },
     "execution_count": 4,
     "metadata": {},
     "output_type": "execute_result"
    }
   ],
   "source": [
    "list(normal)"
   ]
  },
  {
   "cell_type": "code",
   "execution_count": 5,
   "metadata": {},
   "outputs": [
    {
     "data": {
      "text/plain": [
       "(495000, 51)"
      ]
     },
     "execution_count": 5,
     "metadata": {},
     "output_type": "execute_result"
    }
   ],
   "source": [
    "normal = normal.drop(['Timestamp', \"Normal/Attack\"], axis = 1)\n",
    "normal.shape"
   ]
  },
  {
   "cell_type": "code",
   "execution_count": 6,
   "metadata": {},
   "outputs": [],
   "source": [
    "for i in list(normal): # list(normal): 컬럼명\n",
    "    normal[i] = normal[i].apply(lambda x: str(x).replace(',', '.'))\n",
    "normal = normal.astype(float)"
   ]
  },
  {
   "cell_type": "code",
   "execution_count": 7,
   "metadata": {},
   "outputs": [
    {
     "data": {
      "text/plain": [
       "(99000, 51)"
      ]
     },
     "execution_count": 7,
     "metadata": {},
     "output_type": "execute_result"
    }
   ],
   "source": [
    "# downsampling\n",
    "down_rate = 5\n",
    "\n",
    "# 나누면 0, 0, 0, 0, 0 5개가 되므로 이거 groupby로 묶고, 그것에 평균을 함\n",
    "normal = normal.groupby(np.arange(len(normal.index)) // down_rate).mean()\n",
    "\n",
    "\n",
    "normal.shape"
   ]
  },
  {
   "cell_type": "code",
   "execution_count": 8,
   "metadata": {},
   "outputs": [
    {
     "data": {
      "text/html": [
       "<div>\n",
       "<style scoped>\n",
       "    .dataframe tbody tr th:only-of-type {\n",
       "        vertical-align: middle;\n",
       "    }\n",
       "\n",
       "    .dataframe tbody tr th {\n",
       "        vertical-align: top;\n",
       "    }\n",
       "\n",
       "    .dataframe thead th {\n",
       "        text-align: right;\n",
       "    }\n",
       "</style>\n",
       "<table border=\"1\" class=\"dataframe\">\n",
       "  <thead>\n",
       "    <tr style=\"text-align: right;\">\n",
       "      <th></th>\n",
       "      <th>0</th>\n",
       "      <th>1</th>\n",
       "      <th>2</th>\n",
       "      <th>3</th>\n",
       "      <th>4</th>\n",
       "      <th>5</th>\n",
       "      <th>6</th>\n",
       "      <th>7</th>\n",
       "      <th>8</th>\n",
       "      <th>9</th>\n",
       "      <th>...</th>\n",
       "      <th>41</th>\n",
       "      <th>42</th>\n",
       "      <th>43</th>\n",
       "      <th>44</th>\n",
       "      <th>45</th>\n",
       "      <th>46</th>\n",
       "      <th>47</th>\n",
       "      <th>48</th>\n",
       "      <th>49</th>\n",
       "      <th>50</th>\n",
       "    </tr>\n",
       "  </thead>\n",
       "  <tbody>\n",
       "    <tr>\n",
       "      <th>0</th>\n",
       "      <td>0.0</td>\n",
       "      <td>0.005241</td>\n",
       "      <td>0.5</td>\n",
       "      <td>0.0</td>\n",
       "      <td>0.0</td>\n",
       "      <td>0.008695</td>\n",
       "      <td>0.075126</td>\n",
       "      <td>0.002009</td>\n",
       "      <td>0.0</td>\n",
       "      <td>0.5</td>\n",
       "      <td>...</td>\n",
       "      <td>0.0</td>\n",
       "      <td>0.0</td>\n",
       "      <td>0.0</td>\n",
       "      <td>0.000814</td>\n",
       "      <td>0.0</td>\n",
       "      <td>0.001217</td>\n",
       "      <td>0.000147</td>\n",
       "      <td>0.0</td>\n",
       "      <td>0.0</td>\n",
       "      <td>0.0</td>\n",
       "    </tr>\n",
       "    <tr>\n",
       "      <th>1</th>\n",
       "      <td>0.0</td>\n",
       "      <td>0.003821</td>\n",
       "      <td>0.5</td>\n",
       "      <td>0.0</td>\n",
       "      <td>0.0</td>\n",
       "      <td>0.008695</td>\n",
       "      <td>0.074071</td>\n",
       "      <td>0.002009</td>\n",
       "      <td>0.0</td>\n",
       "      <td>0.5</td>\n",
       "      <td>...</td>\n",
       "      <td>0.0</td>\n",
       "      <td>0.0</td>\n",
       "      <td>0.0</td>\n",
       "      <td>0.000814</td>\n",
       "      <td>0.0</td>\n",
       "      <td>0.001217</td>\n",
       "      <td>0.000147</td>\n",
       "      <td>0.0</td>\n",
       "      <td>0.0</td>\n",
       "      <td>0.0</td>\n",
       "    </tr>\n",
       "  </tbody>\n",
       "</table>\n",
       "<p>2 rows × 51 columns</p>\n",
       "</div>"
      ],
      "text/plain": [
       "    0         1    2    3    4         5         6         7    8    9   ...  \\\n",
       "0  0.0  0.005241  0.5  0.0  0.0  0.008695  0.075126  0.002009  0.0  0.5  ...   \n",
       "1  0.0  0.003821  0.5  0.0  0.0  0.008695  0.074071  0.002009  0.0  0.5  ...   \n",
       "\n",
       "    41   42   43        44   45        46        47   48   49   50  \n",
       "0  0.0  0.0  0.0  0.000814  0.0  0.001217  0.000147  0.0  0.0  0.0  \n",
       "1  0.0  0.0  0.0  0.000814  0.0  0.001217  0.000147  0.0  0.0  0.0  \n",
       "\n",
       "[2 rows x 51 columns]"
      ]
     },
     "execution_count": 8,
     "metadata": {},
     "output_type": "execute_result"
    }
   ],
   "source": [
    "from sklearn import preprocessing\n",
    "\n",
    "scaler = preprocessing.MinMaxScaler()\n",
    "\n",
    "x = normal.values\n",
    "x_scaled = scaler.fit_transform(x)\n",
    "\n",
    "normal = pd.DataFrame(x_scaled)\n",
    "normal.head(2)"
   ]
  },
  {
   "cell_type": "markdown",
   "metadata": {},
   "source": [
    "# Attack"
   ]
  },
  {
   "cell_type": "code",
   "execution_count": 9,
   "metadata": {},
   "outputs": [
    {
     "name": "stderr",
     "output_type": "stream",
     "text": [
      "C:\\Users\\ygeun\\AppData\\Local\\Temp\\ipykernel_19028\\1435298552.py:2: DtypeWarning: Columns (1,9,28,46) have mixed types. Specify dtype option on import or set low_memory=False.\n",
      "  attack = pd.read_csv(\"input/swat_attack.csv\",sep=\";\")#, nrows=1000)\n"
     ]
    }
   ],
   "source": [
    "#Read data\n",
    "attack = pd.read_csv(\"input/swat_attack.csv\",sep=\";\")#, nrows=1000)\n",
    "labels = [ float(label!= 'Normal' ) for label  in attack[\"Normal/Attack\"].values] # False가 0으로, True가 1이 된다.  (y 값)\n"
   ]
  },
  {
   "cell_type": "code",
   "execution_count": 10,
   "metadata": {},
   "outputs": [
    {
     "data": {
      "text/html": [
       "<div>\n",
       "<style scoped>\n",
       "    .dataframe tbody tr th:only-of-type {\n",
       "        vertical-align: middle;\n",
       "    }\n",
       "\n",
       "    .dataframe tbody tr th {\n",
       "        vertical-align: top;\n",
       "    }\n",
       "\n",
       "    .dataframe thead th {\n",
       "        text-align: right;\n",
       "    }\n",
       "</style>\n",
       "<table border=\"1\" class=\"dataframe\">\n",
       "  <thead>\n",
       "    <tr style=\"text-align: right;\">\n",
       "      <th></th>\n",
       "      <th>0</th>\n",
       "      <th>1</th>\n",
       "      <th>2</th>\n",
       "      <th>3</th>\n",
       "      <th>4</th>\n",
       "      <th>5</th>\n",
       "      <th>6</th>\n",
       "      <th>7</th>\n",
       "      <th>8</th>\n",
       "      <th>9</th>\n",
       "      <th>...</th>\n",
       "      <th>41</th>\n",
       "      <th>42</th>\n",
       "      <th>43</th>\n",
       "      <th>44</th>\n",
       "      <th>45</th>\n",
       "      <th>46</th>\n",
       "      <th>47</th>\n",
       "      <th>48</th>\n",
       "      <th>49</th>\n",
       "      <th>50</th>\n",
       "    </tr>\n",
       "  </thead>\n",
       "  <tbody>\n",
       "    <tr>\n",
       "      <th>0</th>\n",
       "      <td>0.917606</td>\n",
       "      <td>0.577402</td>\n",
       "      <td>1.0</td>\n",
       "      <td>1.0</td>\n",
       "      <td>0.0</td>\n",
       "      <td>0.49767</td>\n",
       "      <td>0.187329</td>\n",
       "      <td>0.064088</td>\n",
       "      <td>0.982593</td>\n",
       "      <td>1.0</td>\n",
       "      <td>...</td>\n",
       "      <td>0.975713</td>\n",
       "      <td>1.0</td>\n",
       "      <td>0.0</td>\n",
       "      <td>0.946163</td>\n",
       "      <td>0.484022</td>\n",
       "      <td>0.944197</td>\n",
       "      <td>0.000074</td>\n",
       "      <td>0.0</td>\n",
       "      <td>0.0</td>\n",
       "      <td>0.0</td>\n",
       "    </tr>\n",
       "    <tr>\n",
       "      <th>1</th>\n",
       "      <td>0.971946</td>\n",
       "      <td>0.579048</td>\n",
       "      <td>1.0</td>\n",
       "      <td>1.0</td>\n",
       "      <td>0.0</td>\n",
       "      <td>0.49767</td>\n",
       "      <td>0.186274</td>\n",
       "      <td>0.064088</td>\n",
       "      <td>0.982202</td>\n",
       "      <td>1.0</td>\n",
       "      <td>...</td>\n",
       "      <td>0.976686</td>\n",
       "      <td>1.0</td>\n",
       "      <td>0.0</td>\n",
       "      <td>0.945687</td>\n",
       "      <td>0.484022</td>\n",
       "      <td>0.943694</td>\n",
       "      <td>0.000074</td>\n",
       "      <td>0.0</td>\n",
       "      <td>0.0</td>\n",
       "      <td>0.0</td>\n",
       "    </tr>\n",
       "  </tbody>\n",
       "</table>\n",
       "<p>2 rows × 51 columns</p>\n",
       "</div>"
      ],
      "text/plain": [
       "         0         1    2    3    4        5         6         7         8   \\\n",
       "0  0.917606  0.577402  1.0  1.0  0.0  0.49767  0.187329  0.064088  0.982593   \n",
       "1  0.971946  0.579048  1.0  1.0  0.0  0.49767  0.186274  0.064088  0.982202   \n",
       "\n",
       "    9   ...        41   42   43        44        45        46        47   48  \\\n",
       "0  1.0  ...  0.975713  1.0  0.0  0.946163  0.484022  0.944197  0.000074  0.0   \n",
       "1  1.0  ...  0.976686  1.0  0.0  0.945687  0.484022  0.943694  0.000074  0.0   \n",
       "\n",
       "    49   50  \n",
       "0  0.0  0.0  \n",
       "1  0.0  0.0  \n",
       "\n",
       "[2 rows x 51 columns]"
      ]
     },
     "execution_count": 10,
     "metadata": {},
     "output_type": "execute_result"
    }
   ],
   "source": [
    "attack = attack.drop([\"Timestamp\" , \"Normal/Attack\" ] , axis = 1)\n",
    "\n",
    "for i in list(attack):\n",
    "    attack[i] = attack[i].apply(lambda x: str(x).replace(',', '.'))\n",
    "\n",
    "attack = attack.astype(float)\n",
    "\n",
    "attack = attack.groupby(np.arange(len(attack.index)) // down_rate).mean()\n",
    "\n",
    "x = attack.values \n",
    "x_scaled = scaler.transform(x)\n",
    "attack = pd.DataFrame(x_scaled)\n",
    "\n",
    "attack.head(2)\n"
   ]
  },
  {
   "cell_type": "code",
   "execution_count": 11,
   "metadata": {},
   "outputs": [
    {
     "name": "stdout",
     "output_type": "stream",
     "text": [
      "89984\n"
     ]
    }
   ],
   "source": [
    "# downsampling\n",
    "\n",
    "labels_down = []\n",
    "\n",
    "for i in range(len(labels)//down_rate):\n",
    "    if labels[5 * i : 5 * (i + 1)].count(1.0):\n",
    "        labels_down.append(1.0)\n",
    "    else:\n",
    "        labels_down.append(0.0)\n",
    "\n",
    "if labels[down_rate * (i + 1): ].count(1.0):\n",
    "    labels_down.append(1.0)\n",
    "else:\n",
    "    labels_down.append(0.0)\n",
    "\n",
    "print(len(labels_down))\n",
    "    "
   ]
  },
  {
   "cell_type": "markdown",
   "metadata": {},
   "source": [
    "# Windows"
   ]
  },
  {
   "cell_type": "code",
   "execution_count": 12,
   "metadata": {},
   "outputs": [],
   "source": [
    "window_size = 12 # 논문 기준 K 값"
   ]
  },
  {
   "cell_type": "code",
   "execution_count": 13,
   "metadata": {},
   "outputs": [
    {
     "data": {
      "text/plain": [
       "(98988, 12, 51)"
      ]
     },
     "execution_count": 13,
     "metadata": {},
     "output_type": "execute_result"
    }
   ],
   "source": [
    "# (1, 12)랑 (98988, 1)을 broadcasing해서 더함\n",
    "# [0,1,2, .., 12]랑 0을 해서 첫번째 값 [0+0, 0+1, 0+2, .., 0+12]\n",
    "\n",
    "windows_normal= normal.values[np.arange(window_size)[None, :] + np.arange(normal.shape[0]-window_size)[:, None]]\n",
    "windows_normal.shape"
   ]
  },
  {
   "cell_type": "code",
   "execution_count": 14,
   "metadata": {},
   "outputs": [
    {
     "data": {
      "text/plain": [
       "(89972, 12, 51)"
      ]
     },
     "execution_count": 14,
     "metadata": {},
     "output_type": "execute_result"
    }
   ],
   "source": [
    "windows_attack=attack.values[np.arange(window_size)[None, :] + np.arange(attack.shape[0]-window_size)[:, None]]\n",
    "windows_attack.shape"
   ]
  },
  {
   "cell_type": "markdown",
   "metadata": {},
   "source": [
    "# Training"
   ]
  },
  {
   "cell_type": "code",
   "execution_count": 43,
   "metadata": {},
   "outputs": [],
   "source": [
    "import torch.utils.data as data_utils\n",
    "\n",
    "\n",
    "BATCH_SIZE = 7919\n",
    "N_EPOCHS = 5 # 원래 25\n",
    "hidden_size = 40\n",
    "\n",
    "w_size = windows_normal.shape[1] * windows_normal.shape[2] # 12 * 51 = 612\n",
    "z_size = windows_normal.shape[1] * hidden_size # 12 * 40 = 480 (잠재벡터)\n",
    "\n",
    "windows_normal_train = windows_normal[:int(np.floor(.8 * windows_normal.shape[0]))] # np.floor: 소수 부분을 버리고 주어진 수보다 같거나 적은 정수로\n",
    "windows_normal_val = windows_normal[int(np.floor(.8 * windows_normal.shape[0])):]\n",
    "\n",
    "train_loader = torch.utils.data.DataLoader(data_utils.TensorDataset(\n",
    "    torch.from_numpy(windows_normal_train).float().view(([windows_normal_train.shape[0], w_size]))\n",
    "),\n",
    "batch_size=BATCH_SIZE,\n",
    "shuffle=False,\n",
    "num_workers=0)\n",
    "\n",
    "val_loader = torch.utils.data.DataLoader(data_utils.TensorDataset(\n",
    "    torch.from_numpy(windows_normal_val).float().view(([windows_normal_val.shape[0], w_size]))\n",
    "),\n",
    "batch_size=BATCH_SIZE,\n",
    "shuffle=False,\n",
    "num_workers=0)\n",
    "\n",
    "test_loader = torch.utils.data.DataLoader(data_utils.TensorDataset(\n",
    "    torch.from_numpy(windows_attack).float().view(([windows_attack.shape[0], w_size]))\n",
    "),\n",
    "batch_size=BATCH_SIZE,\n",
    "shuffle=False,\n",
    "num_workers=0\n",
    ")\n",
    "\n",
    "model = USAD_model(w_size, z_size)\n",
    "model = to_device(model,device)\n",
    "\n"
   ]
  },
  {
   "cell_type": "code",
   "execution_count": 44,
   "metadata": {},
   "outputs": [
    {
     "name": "stdout",
     "output_type": "stream",
     "text": [
      "Epoch [0], val_loss1: 0.0459, val_loss2: 0.0474\n",
      "Epoch [1], val_loss1: 0.0464, val_loss2: -0.0006\n",
      "Epoch [2], val_loss1: 0.0432, val_loss2: -0.0152\n",
      "Epoch [3], val_loss1: 0.0399, val_loss2: -0.0210\n",
      "Epoch [4], val_loss1: 0.0372, val_loss2: -0.0235\n"
     ]
    }
   ],
   "source": [
    "history = training(N_EPOCHS, model, train_loader, val_loader)"
   ]
  },
  {
   "cell_type": "code",
   "execution_count": 45,
   "metadata": {},
   "outputs": [
    {
     "data": {
      "image/png": "[encoded data removed]",
      "text/plain": [
       "<Figure size 640x480 with 1 Axes>"
      ]
     },
     "metadata": {},
     "output_type": "display_data"
    }
   ],
   "source": [
    "plot_history(history)"
   ]
  },
  {
   "cell_type": "markdown",
   "metadata": {},
   "source": [
    "# 모델 저장"
   ]
  },
  {
   "cell_type": "code",
   "execution_count": 63,
   "metadata": {},
   "outputs": [],
   "source": [
    "# 모델 저장\n",
    "torch.save({\n",
    "            'encoder': model.encoder.state_dict(),\n",
    "            'decoder1': model.decoder1.state_dict(),\n",
    "            'decoder2': model.decoder2.state_dict()\n",
    "            }, \"model_SWaT.pth\")"
   ]
  },
  {
   "cell_type": "code",
   "execution_count": 64,
   "metadata": {},
   "outputs": [
    {
     "name": "stderr",
     "output_type": "stream",
     "text": [
      "C:\\Users\\ygeun\\AppData\\Local\\Temp\\ipykernel_19028\\1438256084.py:1: FutureWarning: You are using `torch.load` with `weights_only=False` (the current default value), which uses the default pickle module implicitly. It is possible to construct malicious pickle data which will execute arbitrary code during unpickling (See https://github.com/pytorch/pytorch/blob/main/SECURITY.md#untrusted-models for more details). In a future release, the default value for `weights_only` will be flipped to `True`. This limits the functions that could be executed during unpickling. Arbitrary objects will no longer be allowed to be loaded via this mode unless they are explicitly allowlisted by the user via `torch.serialization.add_safe_globals`. We recommend you start setting `weights_only=True` for any use case where you don't have full control of the loaded file. Please open an issue on GitHub for any issues related to this experimental feature.\n",
      "  checkpoint = torch.load(\"model_SWaT.pth\")\n"
     ]
    },
    {
     "data": {
      "text/plain": [
       "<All keys matched successfully>"
      ]
     },
     "execution_count": 64,
     "metadata": {},
     "output_type": "execute_result"
    }
   ],
   "source": [
    "checkpoint = torch.load(\"model_SWaT.pth\")\n",
    "\n",
    "model.encoder.load_state_dict(checkpoint['encoder'])\n",
    "model.decoder1.load_state_dict(checkpoint['decoder1'])\n",
    "model.decoder2.load_state_dict(checkpoint['decoder2'])"
   ]
  },
  {
   "cell_type": "code",
   "execution_count": 48,
   "metadata": {},
   "outputs": [],
   "source": [
    "training_scores_list = training_scores(model, train_loader, val_loader)"
   ]
  },
  {
   "cell_type": "code",
   "execution_count": 71,
   "metadata": {},
   "outputs": [
    {
     "data": {
      "text/plain": [
       "array([0.32865158, 0.3286681 , 0.32868084, ..., 0.01192888, 0.01192253,\n",
       "       0.01187878], dtype=float32)"
      ]
     },
     "execution_count": 71,
     "metadata": {},
     "output_type": "execute_result"
    }
   ],
   "source": [
    "training_scores_concat=np.concatenate([torch.stack(training_scores_list[:-1]).flatten().detach().cpu().numpy(),\n",
    "                            training_scores_list[-1].flatten().detach().cpu().numpy()])\n",
    "\n",
    "training_scores_concat"
   ]
  },
  {
   "cell_type": "code",
   "execution_count": 69,
   "metadata": {},
   "outputs": [],
   "source": [
    "results = testing_scores(model, test_loader) # testing"
   ]
  },
  {
   "cell_type": "code",
   "execution_count": 87,
   "metadata": {},
   "outputs": [
    {
     "data": {
      "text/plain": [
       "12"
      ]
     },
     "execution_count": 87,
     "metadata": {},
     "output_type": "execute_result"
    }
   ],
   "source": [
    "windows_labels=[]\n",
    "\n",
    "for i in range(len(labels_down)-window_size):\n",
    "    windows_labels.append(list(np.int_(labels_down[i:i+window_size])))"
   ]
  },
  {
   "cell_type": "code",
   "execution_count": 53,
   "metadata": {},
   "outputs": [],
   "source": [
    "y_test = [1.0 if (np.sum(window) > 0) else 0 for window in windows_labels]"
   ]
  },
  {
   "cell_type": "code",
   "execution_count": 54,
   "metadata": {},
   "outputs": [],
   "source": [
    "\n",
    "y_pred=np.concatenate([torch.stack(results[:-1]).flatten().detach().cpu().numpy(),\n",
    "                            results[-1].flatten().detach().cpu().numpy()])"
   ]
  },
  {
   "cell_type": "code",
   "execution_count": 55,
   "metadata": {},
   "outputs": [],
   "source": [
    "\n",
    "results_threshold= testing_threshold(model,test_loader,alpha=.5, beta=.5, contamination=0.10)"
   ]
  },
  {
   "cell_type": "code",
   "execution_count": 56,
   "metadata": {},
   "outputs": [
    {
     "data": {
      "text/plain": [
       "0.48852482"
      ]
     },
     "execution_count": 56,
     "metadata": {},
     "output_type": "execute_result"
    }
   ],
   "source": [
    "\n",
    "results_threshold"
   ]
  },
  {
   "cell_type": "code",
   "execution_count": 57,
   "metadata": {},
   "outputs": [
    {
     "data": {
      "image/png": "[encoded data removed]",
      "text/plain": [
       "<Figure size 640x480 with 1 Axes>"
      ]
     },
     "metadata": {},
     "output_type": "display_data"
    }
   ],
   "source": [
    "threshold=ROC(y_test,y_pred)"
   ]
  },
  {
   "cell_type": "code",
   "execution_count": 58,
   "metadata": {},
   "outputs": [],
   "source": [
    "\n",
    "threshold=results_threshold # Decide on your own threshold\n",
    "y_pred_label = [1.0 if (score > threshold) else 0 for score in y_pred ]"
   ]
  },
  {
   "cell_type": "code",
   "execution_count": null,
   "metadata": {},
   "outputs": [
    {
     "name": "stdout",
     "output_type": "stream",
     "text": [
      "precision = 0.7416916750027787\n",
      "recall = 0.588863395693611\n",
      "f1 = 0.6565005656943284\n"
     ]
    }
   ],
   "source": [
    "from sklearn.metrics import precision_score, recall_score, f1_score, classification_report\n",
    "\n",
    "prec = precision_score(y_test, y_pred_label, pos_label=1)\n",
    "recall = recall_score(y_test, y_pred_label, pos_label=1)\n",
    "f1 = f1_score(y_test, y_pred_label, pos_label=1)\n",
    "\n",
    "print('precision =', prec)\n",
    "print('recall =', recall)\n",
    "print('f1 =', f1)\n"
   ]
  }
 ],
 "metadata": {
  "kernelspec": {
   "display_name": "Python 3",
   "language": "python",
   "name": "python3"
  },
  "language_info": {
   "codemirror_mode": {
    "name": "ipython",
    "version": 3
   },
   "file_extension": ".py",
   "mimetype": "text/x-python",
   "name": "python",
   "nbconvert_exporter": "python",
   "pygments_lexer": "ipython3",
   "version": "3.11.9"
  }
 },
 "nbformat": 4,
 "nbformat_minor": 2
}
