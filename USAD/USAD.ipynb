{
 "cells": [
  {
   "cell_type": "markdown",
   "metadata": {
    "id": "etniX_KTlJ5U"
   },
   "source": [
    "# USAD"
   ]
  },
  {
   "cell_type": "markdown",
   "metadata": {
    "id": "N3jM0qLU8MgZ"
   },
   "source": [
    "## Environment"
   ]
  },
  {
   "cell_type": "code",
   "execution_count": 24,
   "metadata": {
    "id": "6u1DGKsAlLF-"
   },
   "outputs": [],
   "source": [
    "import numpy as np\n",
    "import pandas as pd\n",
    "import matplotlib.pyplot as plt\n",
    "import seaborn as sns\n",
    "import torch\n",
    "import torch.nn as nn\n",
    "\n",
    "from utils import *\n",
    "\n",
    "from usad import *"
   ]
  },
  {
   "cell_type": "code",
   "execution_count": 2,
   "metadata": {
    "colab": {
     "base_uri": "https://localhost:8080/",
     "height": 34
    },
    "id": "4AzWlDBI_djV",
    "outputId": "7a8d0c19-2389-461b-c0be-3427a25dda91"
   },
   "outputs": [
    {
     "name": "stdout",
     "output_type": "stream",
     "text": [
      "GPU 0: NVIDIA GeForce MX450 (UUID: GPU-624ecbf3-6b5e-a90b-cd49-4dc02d928fa3)\n"
     ]
    }
   ],
   "source": [
    "# NVIDIA의 GPU 상태 및 정보 확인하는 명령어\n",
    "!nvidia-smi -L"
   ]
  },
  {
   "cell_type": "code",
   "execution_count": 3,
   "metadata": {},
   "outputs": [
    {
     "data": {
      "text/plain": [
       "device(type='cpu')"
      ]
     },
     "execution_count": 3,
     "metadata": {},
     "output_type": "execute_result"
    }
   ],
   "source": [
    "device = get_default_device()\n",
    "\n",
    "device"
   ]
  },
  {
   "cell_type": "markdown",
   "metadata": {
    "id": "1crx5rGP9ONf"
   },
   "source": [
    "## EDA - Data Pre-Processing"
   ]
  },
  {
   "cell_type": "markdown",
   "metadata": {
    "id": "vxofeE469RhT"
   },
   "source": [
    "### Download dataset"
   ]
  },
  {
   "cell_type": "code",
   "execution_count": 4,
   "metadata": {
    "colab": {
     "base_uri": "https://localhost:8080/",
     "height": 84
    },
    "id": "i95DlAZI1G_p",
    "outputId": "5b35771c-356e-4e0b-a997-682d1ea85c6a",
    "scrolled": false
   },
   "outputs": [
    {
     "name": "stderr",
     "output_type": "stream",
     "text": [
      "���� ���͸� �Ǵ� ���� input��(��) �̹� �ֽ��ϴ�.\n"
     ]
    }
   ],
   "source": [
    "!mkdir input\n",
    "\n",
    "#normal period\n",
    "#!python gdrivedl.py https://drive.google.com/open?id=1rVJ5ry5GG-ZZi5yI4x9lICB8VhErXwCw input/\n",
    "\n",
    "#anomalies\n",
    "#!python gdrivedl.py https://drive.google.com/open?id=1iDYc0OEmidN712fquOBRFjln90SbpaE7 input/\n",
    "\n",
    "\n",
    "# 에러 발생해서 그냥 다운받아서 넣었음."
   ]
  },
  {
   "cell_type": "markdown",
   "metadata": {
    "id": "kfSj4FYL9W8Y"
   },
   "source": [
    "### Normal period"
   ]
  },
  {
   "cell_type": "code",
   "execution_count": 5,
   "metadata": {
    "colab": {
     "base_uri": "https://localhost:8080/",
     "height": 87
    },
    "id": "XeDLxV_r1G9n",
    "outputId": "576538dd-64f2-46fa-8e6f-6c2ffdebad15"
   },
   "outputs": [
    {
     "name": "stderr",
     "output_type": "stream",
     "text": [
      "C:\\Users\\ygeun\\AppData\\Local\\Temp\\ipykernel_18148\\458504778.py:2: DtypeWarning: Columns (26) have mixed types. Specify dtype option on import or set low_memory=False.\n",
      "  normal = pd.read_csv(\"input/SWaT_Dataset_Normal_v1.csv\")#, nrows=1000)\n"
     ]
    },
    {
     "data": {
      "text/html": [
       "<div>\n",
       "<style scoped>\n",
       "    .dataframe tbody tr th:only-of-type {\n",
       "        vertical-align: middle;\n",
       "    }\n",
       "\n",
       "    .dataframe tbody tr th {\n",
       "        vertical-align: top;\n",
       "    }\n",
       "\n",
       "    .dataframe thead th {\n",
       "        text-align: right;\n",
       "    }\n",
       "</style>\n",
       "<table border=\"1\" class=\"dataframe\">\n",
       "  <thead>\n",
       "    <tr style=\"text-align: right;\">\n",
       "      <th></th>\n",
       "      <th>Timestamp</th>\n",
       "      <th>FIT101</th>\n",
       "      <th>LIT101</th>\n",
       "      <th>MV101</th>\n",
       "      <th>P101</th>\n",
       "      <th>P102</th>\n",
       "      <th>AIT201</th>\n",
       "      <th>AIT202</th>\n",
       "      <th>AIT203</th>\n",
       "      <th>FIT201</th>\n",
       "      <th>...</th>\n",
       "      <th>P501</th>\n",
       "      <th>P502</th>\n",
       "      <th>PIT501</th>\n",
       "      <th>PIT502</th>\n",
       "      <th>PIT503</th>\n",
       "      <th>FIT601</th>\n",
       "      <th>P601</th>\n",
       "      <th>P602</th>\n",
       "      <th>P603</th>\n",
       "      <th>Normal/Attack</th>\n",
       "    </tr>\n",
       "  </thead>\n",
       "  <tbody>\n",
       "    <tr>\n",
       "      <th>0</th>\n",
       "      <td>22/12/2015 4:30:00 PM</td>\n",
       "      <td>0</td>\n",
       "      <td>124,3135</td>\n",
       "      <td>1</td>\n",
       "      <td>1</td>\n",
       "      <td>1</td>\n",
       "      <td>251,9226</td>\n",
       "      <td>8,313446</td>\n",
       "      <td>312,7916</td>\n",
       "      <td>0</td>\n",
       "      <td>...</td>\n",
       "      <td>1</td>\n",
       "      <td>1</td>\n",
       "      <td>9,100231</td>\n",
       "      <td>0</td>\n",
       "      <td>3,3485</td>\n",
       "      <td>0,0002563035</td>\n",
       "      <td>1</td>\n",
       "      <td>1</td>\n",
       "      <td>1</td>\n",
       "      <td>Normal</td>\n",
       "    </tr>\n",
       "    <tr>\n",
       "      <th>1</th>\n",
       "      <td>22/12/2015 4:30:01 PM</td>\n",
       "      <td>0</td>\n",
       "      <td>124,392</td>\n",
       "      <td>1</td>\n",
       "      <td>1</td>\n",
       "      <td>1</td>\n",
       "      <td>251,9226</td>\n",
       "      <td>8,313446</td>\n",
       "      <td>312,7916</td>\n",
       "      <td>0</td>\n",
       "      <td>...</td>\n",
       "      <td>1</td>\n",
       "      <td>1</td>\n",
       "      <td>9,100231</td>\n",
       "      <td>0</td>\n",
       "      <td>3,3485</td>\n",
       "      <td>0,0002563035</td>\n",
       "      <td>1</td>\n",
       "      <td>1</td>\n",
       "      <td>1</td>\n",
       "      <td>Normal</td>\n",
       "    </tr>\n",
       "    <tr>\n",
       "      <th>2</th>\n",
       "      <td>22/12/2015 4:30:02 PM</td>\n",
       "      <td>0</td>\n",
       "      <td>124,4705</td>\n",
       "      <td>1</td>\n",
       "      <td>1</td>\n",
       "      <td>1</td>\n",
       "      <td>251,9226</td>\n",
       "      <td>8,313446</td>\n",
       "      <td>312,7916</td>\n",
       "      <td>0</td>\n",
       "      <td>...</td>\n",
       "      <td>1</td>\n",
       "      <td>1</td>\n",
       "      <td>9,100231</td>\n",
       "      <td>0</td>\n",
       "      <td>3,3485</td>\n",
       "      <td>0,0002563035</td>\n",
       "      <td>1</td>\n",
       "      <td>1</td>\n",
       "      <td>1</td>\n",
       "      <td>Normal</td>\n",
       "    </tr>\n",
       "    <tr>\n",
       "      <th>3</th>\n",
       "      <td>22/12/2015 4:30:03 PM</td>\n",
       "      <td>0</td>\n",
       "      <td>124,6668</td>\n",
       "      <td>1</td>\n",
       "      <td>1</td>\n",
       "      <td>1</td>\n",
       "      <td>251,9226</td>\n",
       "      <td>8,313446</td>\n",
       "      <td>312,7916</td>\n",
       "      <td>0</td>\n",
       "      <td>...</td>\n",
       "      <td>1</td>\n",
       "      <td>1</td>\n",
       "      <td>9,100231</td>\n",
       "      <td>0</td>\n",
       "      <td>3,3485</td>\n",
       "      <td>0,0002563035</td>\n",
       "      <td>1</td>\n",
       "      <td>1</td>\n",
       "      <td>1</td>\n",
       "      <td>Normal</td>\n",
       "    </tr>\n",
       "    <tr>\n",
       "      <th>4</th>\n",
       "      <td>22/12/2015 4:30:04 PM</td>\n",
       "      <td>0</td>\n",
       "      <td>124,5098</td>\n",
       "      <td>1</td>\n",
       "      <td>1</td>\n",
       "      <td>1</td>\n",
       "      <td>251,9226</td>\n",
       "      <td>8,313446</td>\n",
       "      <td>312,7916</td>\n",
       "      <td>0</td>\n",
       "      <td>...</td>\n",
       "      <td>1</td>\n",
       "      <td>1</td>\n",
       "      <td>9,100231</td>\n",
       "      <td>0</td>\n",
       "      <td>3,3485</td>\n",
       "      <td>0,0002563035</td>\n",
       "      <td>1</td>\n",
       "      <td>1</td>\n",
       "      <td>1</td>\n",
       "      <td>Normal</td>\n",
       "    </tr>\n",
       "    <tr>\n",
       "      <th>...</th>\n",
       "      <td>...</td>\n",
       "      <td>...</td>\n",
       "      <td>...</td>\n",
       "      <td>...</td>\n",
       "      <td>...</td>\n",
       "      <td>...</td>\n",
       "      <td>...</td>\n",
       "      <td>...</td>\n",
       "      <td>...</td>\n",
       "      <td>...</td>\n",
       "      <td>...</td>\n",
       "      <td>...</td>\n",
       "      <td>...</td>\n",
       "      <td>...</td>\n",
       "      <td>...</td>\n",
       "      <td>...</td>\n",
       "      <td>...</td>\n",
       "      <td>...</td>\n",
       "      <td>...</td>\n",
       "      <td>...</td>\n",
       "      <td>...</td>\n",
       "    </tr>\n",
       "    <tr>\n",
       "      <th>494995</th>\n",
       "      <td>28/12/2015 9:59:55 AM</td>\n",
       "      <td>2,460366</td>\n",
       "      <td>523,043</td>\n",
       "      <td>2</td>\n",
       "      <td>2</td>\n",
       "      <td>1</td>\n",
       "      <td>262,0161</td>\n",
       "      <td>8,396437</td>\n",
       "      <td>328,5055</td>\n",
       "      <td>2,442316</td>\n",
       "      <td>...</td>\n",
       "      <td>2</td>\n",
       "      <td>1</td>\n",
       "      <td>250,8171</td>\n",
       "      <td>1,778105</td>\n",
       "      <td>189,8552</td>\n",
       "      <td>0,0001281517</td>\n",
       "      <td>1</td>\n",
       "      <td>1</td>\n",
       "      <td>1</td>\n",
       "      <td>Normal</td>\n",
       "    </tr>\n",
       "    <tr>\n",
       "      <th>494996</th>\n",
       "      <td>28/12/2015 9:59:56 AM</td>\n",
       "      <td>2,448836</td>\n",
       "      <td>522,9645</td>\n",
       "      <td>2</td>\n",
       "      <td>2</td>\n",
       "      <td>1</td>\n",
       "      <td>262,0161</td>\n",
       "      <td>8,396437</td>\n",
       "      <td>328,5055</td>\n",
       "      <td>2,442316</td>\n",
       "      <td>...</td>\n",
       "      <td>2</td>\n",
       "      <td>1</td>\n",
       "      <td>250,8171</td>\n",
       "      <td>1,778105</td>\n",
       "      <td>189,5027</td>\n",
       "      <td>0,0001281517</td>\n",
       "      <td>1</td>\n",
       "      <td>1</td>\n",
       "      <td>1</td>\n",
       "      <td>Normal</td>\n",
       "    </tr>\n",
       "    <tr>\n",
       "      <th>494997</th>\n",
       "      <td>28/12/2015 9:59:57 AM</td>\n",
       "      <td>2,434744</td>\n",
       "      <td>522,886</td>\n",
       "      <td>2</td>\n",
       "      <td>2</td>\n",
       "      <td>1</td>\n",
       "      <td>262,0161</td>\n",
       "      <td>8,396437</td>\n",
       "      <td>328,6337</td>\n",
       "      <td>2,444879</td>\n",
       "      <td>...</td>\n",
       "      <td>2</td>\n",
       "      <td>1</td>\n",
       "      <td>250,8171</td>\n",
       "      <td>1,778105</td>\n",
       "      <td>189,5027</td>\n",
       "      <td>0,0001281517</td>\n",
       "      <td>1</td>\n",
       "      <td>1</td>\n",
       "      <td>1</td>\n",
       "      <td>Normal</td>\n",
       "    </tr>\n",
       "    <tr>\n",
       "      <th>494998</th>\n",
       "      <td>28/12/2015 9:59:58 AM</td>\n",
       "      <td>2,428338</td>\n",
       "      <td>522,9252</td>\n",
       "      <td>2</td>\n",
       "      <td>2</td>\n",
       "      <td>1</td>\n",
       "      <td>262,0161</td>\n",
       "      <td>8,396437</td>\n",
       "      <td>328,6337</td>\n",
       "      <td>2,445391</td>\n",
       "      <td>...</td>\n",
       "      <td>2</td>\n",
       "      <td>1</td>\n",
       "      <td>250,8171</td>\n",
       "      <td>1,649953</td>\n",
       "      <td>189,5027</td>\n",
       "      <td>0,0001281517</td>\n",
       "      <td>1</td>\n",
       "      <td>1</td>\n",
       "      <td>1</td>\n",
       "      <td>Normal</td>\n",
       "    </tr>\n",
       "    <tr>\n",
       "      <th>494999</th>\n",
       "      <td>28/12/2015 9:59:59 AM</td>\n",
       "      <td>2,427057</td>\n",
       "      <td>522,8467</td>\n",
       "      <td>2</td>\n",
       "      <td>2</td>\n",
       "      <td>1</td>\n",
       "      <td>262,0161</td>\n",
       "      <td>8,396437</td>\n",
       "      <td>328,6337</td>\n",
       "      <td>2,445391</td>\n",
       "      <td>...</td>\n",
       "      <td>2</td>\n",
       "      <td>1</td>\n",
       "      <td>250,8652</td>\n",
       "      <td>1,649953</td>\n",
       "      <td>189,5988</td>\n",
       "      <td>0,0001281517</td>\n",
       "      <td>1</td>\n",
       "      <td>1</td>\n",
       "      <td>1</td>\n",
       "      <td>Normal</td>\n",
       "    </tr>\n",
       "  </tbody>\n",
       "</table>\n",
       "<p>495000 rows × 53 columns</p>\n",
       "</div>"
      ],
      "text/plain": [
       "                     Timestamp    FIT101    LIT101  MV101  P101  P102  \\\n",
       "0        22/12/2015 4:30:00 PM         0  124,3135      1     1     1   \n",
       "1        22/12/2015 4:30:01 PM         0   124,392      1     1     1   \n",
       "2        22/12/2015 4:30:02 PM         0  124,4705      1     1     1   \n",
       "3        22/12/2015 4:30:03 PM         0  124,6668      1     1     1   \n",
       "4        22/12/2015 4:30:04 PM         0  124,5098      1     1     1   \n",
       "...                        ...       ...       ...    ...   ...   ...   \n",
       "494995   28/12/2015 9:59:55 AM  2,460366   523,043      2     2     1   \n",
       "494996   28/12/2015 9:59:56 AM  2,448836  522,9645      2     2     1   \n",
       "494997   28/12/2015 9:59:57 AM  2,434744   522,886      2     2     1   \n",
       "494998   28/12/2015 9:59:58 AM  2,428338  522,9252      2     2     1   \n",
       "494999   28/12/2015 9:59:59 AM  2,427057  522,8467      2     2     1   \n",
       "\n",
       "          AIT201    AIT202    AIT203    FIT201  ...  P501  P502    PIT501  \\\n",
       "0       251,9226  8,313446  312,7916         0  ...     1     1  9,100231   \n",
       "1       251,9226  8,313446  312,7916         0  ...     1     1  9,100231   \n",
       "2       251,9226  8,313446  312,7916         0  ...     1     1  9,100231   \n",
       "3       251,9226  8,313446  312,7916         0  ...     1     1  9,100231   \n",
       "4       251,9226  8,313446  312,7916         0  ...     1     1  9,100231   \n",
       "...          ...       ...       ...       ...  ...   ...   ...       ...   \n",
       "494995  262,0161  8,396437  328,5055  2,442316  ...     2     1  250,8171   \n",
       "494996  262,0161  8,396437  328,5055  2,442316  ...     2     1  250,8171   \n",
       "494997  262,0161  8,396437  328,6337  2,444879  ...     2     1  250,8171   \n",
       "494998  262,0161  8,396437  328,6337  2,445391  ...     2     1  250,8171   \n",
       "494999  262,0161  8,396437  328,6337  2,445391  ...     2     1  250,8652   \n",
       "\n",
       "          PIT502    PIT503        FIT601  P601 P602 P603 Normal/Attack  \n",
       "0              0    3,3485  0,0002563035     1    1    1        Normal  \n",
       "1              0    3,3485  0,0002563035     1    1    1        Normal  \n",
       "2              0    3,3485  0,0002563035     1    1    1        Normal  \n",
       "3              0    3,3485  0,0002563035     1    1    1        Normal  \n",
       "4              0    3,3485  0,0002563035     1    1    1        Normal  \n",
       "...          ...       ...           ...   ...  ...  ...           ...  \n",
       "494995  1,778105  189,8552  0,0001281517     1    1    1        Normal  \n",
       "494996  1,778105  189,5027  0,0001281517     1    1    1        Normal  \n",
       "494997  1,778105  189,5027  0,0001281517     1    1    1        Normal  \n",
       "494998  1,649953  189,5027  0,0001281517     1    1    1        Normal  \n",
       "494999  1,649953  189,5988  0,0001281517     1    1    1        Normal  \n",
       "\n",
       "[495000 rows x 53 columns]"
      ]
     },
     "execution_count": 5,
     "metadata": {},
     "output_type": "execute_result"
    }
   ],
   "source": [
    "#Read data\n",
    "normal = pd.read_csv(\"input/SWaT_Dataset_Normal_v1.csv\")#, nrows=1000)\n",
    "\n",
    "normal"
   ]
  },
  {
   "cell_type": "code",
   "execution_count": 6,
   "metadata": {},
   "outputs": [
    {
     "data": {
      "text/plain": [
       "(495000, 51)"
      ]
     },
     "execution_count": 6,
     "metadata": {},
     "output_type": "execute_result"
    }
   ],
   "source": [
    "normal = normal.drop([\"Timestamp\" , \"Normal/Attack\" ] , axis = 1)\n",
    "normal.shape"
   ]
  },
  {
   "cell_type": "code",
   "execution_count": 7,
   "metadata": {
    "id": "fFuLm1GH1G2n"
   },
   "outputs": [],
   "source": [
    "# Transform all columns into float64\n",
    "for i in list(normal): # list(normal)하면 컬럼명이 다 나옴\n",
    "    normal[i]=normal[i].apply(lambda x: str(x).replace(\",\" , \".\"))\n",
    "normal = normal.astype(float)"
   ]
  },
  {
   "cell_type": "code",
   "execution_count": 8,
   "metadata": {},
   "outputs": [
    {
     "data": {
      "text/plain": [
       "(99000, 51)"
      ]
     },
     "execution_count": 8,
     "metadata": {},
     "output_type": "execute_result"
    }
   ],
   "source": [
    "#Downsampling\n",
    "down_rate = 5\n",
    "\n",
    "# 나누면 0, 0, 0, 0, 0 5개가 되므로 이거 groupby로 묶고, 그것에 평균을 함\n",
    "normal=normal.groupby(np.arange(len(normal.index)) // down_rate).mean()\n",
    "\n",
    "normal.shape"
   ]
  },
  {
   "cell_type": "markdown",
   "metadata": {
    "id": "zxFNH5kU9hIE"
   },
   "source": [
    "#### Normalization"
   ]
  },
  {
   "cell_type": "code",
   "execution_count": 9,
   "metadata": {
    "id": "Mfxj4Uxn9kv4"
   },
   "outputs": [],
   "source": [
    "from sklearn import preprocessing\n",
    "min_max_scaler = preprocessing.MinMaxScaler()\n",
    "\n",
    "x = normal.values\n",
    "x_scaled = min_max_scaler.fit_transform(x)\n",
    "normal = pd.DataFrame(x_scaled)"
   ]
  },
  {
   "cell_type": "code",
   "execution_count": 10,
   "metadata": {
    "colab": {
     "base_uri": "https://localhost:8080/",
     "height": 126
    },
    "id": "mQ6_U4jn9nlw",
    "outputId": "f1cc1bd6-f1cc-4764-b1cc-2fd989ac4918"
   },
   "outputs": [
    {
     "data": {
      "text/html": [
       "<div>\n",
       "<style scoped>\n",
       "    .dataframe tbody tr th:only-of-type {\n",
       "        vertical-align: middle;\n",
       "    }\n",
       "\n",
       "    .dataframe tbody tr th {\n",
       "        vertical-align: top;\n",
       "    }\n",
       "\n",
       "    .dataframe thead th {\n",
       "        text-align: right;\n",
       "    }\n",
       "</style>\n",
       "<table border=\"1\" class=\"dataframe\">\n",
       "  <thead>\n",
       "    <tr style=\"text-align: right;\">\n",
       "      <th></th>\n",
       "      <th>0</th>\n",
       "      <th>1</th>\n",
       "      <th>2</th>\n",
       "      <th>3</th>\n",
       "      <th>4</th>\n",
       "      <th>5</th>\n",
       "      <th>6</th>\n",
       "      <th>7</th>\n",
       "      <th>8</th>\n",
       "      <th>9</th>\n",
       "      <th>...</th>\n",
       "      <th>41</th>\n",
       "      <th>42</th>\n",
       "      <th>43</th>\n",
       "      <th>44</th>\n",
       "      <th>45</th>\n",
       "      <th>46</th>\n",
       "      <th>47</th>\n",
       "      <th>48</th>\n",
       "      <th>49</th>\n",
       "      <th>50</th>\n",
       "    </tr>\n",
       "  </thead>\n",
       "  <tbody>\n",
       "    <tr>\n",
       "      <th>0</th>\n",
       "      <td>0.0</td>\n",
       "      <td>0.005241</td>\n",
       "      <td>0.5</td>\n",
       "      <td>0.0</td>\n",
       "      <td>0.0</td>\n",
       "      <td>0.008695</td>\n",
       "      <td>0.075126</td>\n",
       "      <td>0.002009</td>\n",
       "      <td>0.0</td>\n",
       "      <td>0.5</td>\n",
       "      <td>...</td>\n",
       "      <td>0.0</td>\n",
       "      <td>0.0</td>\n",
       "      <td>0.0</td>\n",
       "      <td>0.000814</td>\n",
       "      <td>0.0</td>\n",
       "      <td>0.001217</td>\n",
       "      <td>0.000147</td>\n",
       "      <td>0.0</td>\n",
       "      <td>0.0</td>\n",
       "      <td>0.0</td>\n",
       "    </tr>\n",
       "    <tr>\n",
       "      <th>1</th>\n",
       "      <td>0.0</td>\n",
       "      <td>0.003821</td>\n",
       "      <td>0.5</td>\n",
       "      <td>0.0</td>\n",
       "      <td>0.0</td>\n",
       "      <td>0.008695</td>\n",
       "      <td>0.074071</td>\n",
       "      <td>0.002009</td>\n",
       "      <td>0.0</td>\n",
       "      <td>0.5</td>\n",
       "      <td>...</td>\n",
       "      <td>0.0</td>\n",
       "      <td>0.0</td>\n",
       "      <td>0.0</td>\n",
       "      <td>0.000814</td>\n",
       "      <td>0.0</td>\n",
       "      <td>0.001217</td>\n",
       "      <td>0.000147</td>\n",
       "      <td>0.0</td>\n",
       "      <td>0.0</td>\n",
       "      <td>0.0</td>\n",
       "    </tr>\n",
       "  </tbody>\n",
       "</table>\n",
       "<p>2 rows × 51 columns</p>\n",
       "</div>"
      ],
      "text/plain": [
       "    0         1    2    3    4         5         6         7    8    9   ...  \\\n",
       "0  0.0  0.005241  0.5  0.0  0.0  0.008695  0.075126  0.002009  0.0  0.5  ...   \n",
       "1  0.0  0.003821  0.5  0.0  0.0  0.008695  0.074071  0.002009  0.0  0.5  ...   \n",
       "\n",
       "    41   42   43        44   45        46        47   48   49   50  \n",
       "0  0.0  0.0  0.0  0.000814  0.0  0.001217  0.000147  0.0  0.0  0.0  \n",
       "1  0.0  0.0  0.0  0.000814  0.0  0.001217  0.000147  0.0  0.0  0.0  \n",
       "\n",
       "[2 rows x 51 columns]"
      ]
     },
     "execution_count": 10,
     "metadata": {},
     "output_type": "execute_result"
    }
   ],
   "source": [
    "normal.head(2)"
   ]
  },
  {
   "cell_type": "markdown",
   "metadata": {
    "id": "_i71RFAi9spa"
   },
   "source": [
    "### Attack"
   ]
  },
  {
   "cell_type": "code",
   "execution_count": 11,
   "metadata": {
    "colab": {
     "base_uri": "https://localhost:8080/",
     "height": 87
    },
    "id": "aN_TFp5x9uTE",
    "outputId": "38d7993d-c9a3-461d-c430-ebde697afbc6"
   },
   "outputs": [
    {
     "name": "stderr",
     "output_type": "stream",
     "text": [
      "C:\\Users\\ygeun\\AppData\\Local\\Temp\\ipykernel_18148\\549659368.py:2: DtypeWarning: Columns (1,9,28,46) have mixed types. Specify dtype option on import or set low_memory=False.\n",
      "  attack = pd.read_csv(\"input/SWaT_Dataset_Attack_v0.csv\",sep=\";\")#, nrows=1000)\n"
     ]
    },
    {
     "data": {
      "text/plain": [
       "(449919, 51)"
      ]
     },
     "execution_count": 11,
     "metadata": {},
     "output_type": "execute_result"
    }
   ],
   "source": [
    "#Read data\n",
    "attack = pd.read_csv(\"input/SWaT_Dataset_Attack_v0.csv\",sep=\";\")#, nrows=1000)\n",
    "labels = [ float(label!= 'Normal' ) for label  in attack[\"Normal/Attack\"].values] # False가 0으로, True가 1이 된다.  (y 값)\n",
    "attack = attack.drop([\"Timestamp\" , \"Normal/Attack\" ] , axis = 1) # (x 값)\n",
    "attack.shape"
   ]
  },
  {
   "cell_type": "code",
   "execution_count": 12,
   "metadata": {
    "id": "qLCInT-I9_-D"
   },
   "outputs": [],
   "source": [
    "# Transform all columns into float64\n",
    "for i in list(attack):\n",
    "    attack[i]=attack[i].apply(lambda x: str(x).replace(\",\" , \".\"))\n",
    "attack = attack.astype(float)"
   ]
  },
  {
   "cell_type": "code",
   "execution_count": 13,
   "metadata": {},
   "outputs": [
    {
     "data": {
      "text/plain": [
       "(89984, 51)"
      ]
     },
     "execution_count": 13,
     "metadata": {},
     "output_type": "execute_result"
    }
   ],
   "source": [
    "#Downsampling the attack data\n",
    "attack=attack.groupby(np.arange(len(attack.index)) // down_rate).mean()\n",
    "attack.shape"
   ]
  },
  {
   "cell_type": "code",
   "execution_count": 14,
   "metadata": {},
   "outputs": [
    {
     "name": "stdout",
     "output_type": "stream",
     "text": [
      "89984\n"
     ]
    }
   ],
   "source": [
    "#Downsampling the labels\n",
    "labels_down=[]\n",
    "\n",
    "for i in range(len(labels)//down_rate):\n",
    "    if labels[5*i:5*(i+1)].count(1.0):\n",
    "        labels_down.append(1.0) #Attack\n",
    "    else:\n",
    "        labels_down.append(0.0) #Normal\n",
    "\n",
    "#for the last few labels that are not within a full-length window\n",
    "# 딱 나눠 떨어지지 않은 경우 처리\n",
    "if labels[down_rate*(i+1):].count(1.0):\n",
    "    labels_down.append(1.0) #Attack\n",
    "else:\n",
    "    labels_down.append(0.0) #Normal\n",
    "\n",
    "print(len(labels_down))"
   ]
  },
  {
   "cell_type": "markdown",
   "metadata": {
    "id": "c4cB4v3N-Dhu"
   },
   "source": [
    "#### Normalization"
   ]
  },
  {
   "cell_type": "code",
   "execution_count": 15,
   "metadata": {
    "id": "jZrha9cO-BGK"
   },
   "outputs": [],
   "source": [
    "from sklearn import preprocessing\n",
    "\n",
    "x = attack.values \n",
    "x_scaled = min_max_scaler.transform(x)\n",
    "attack = pd.DataFrame(x_scaled)"
   ]
  },
  {
   "cell_type": "code",
   "execution_count": 16,
   "metadata": {
    "colab": {
     "base_uri": "https://localhost:8080/",
     "height": 126
    },
    "id": "z9SwiPco-BUa",
    "outputId": "f2507282-c0f9-4253-ece7-0a802b68240f"
   },
   "outputs": [
    {
     "data": {
      "text/html": [
       "<div>\n",
       "<style scoped>\n",
       "    .dataframe tbody tr th:only-of-type {\n",
       "        vertical-align: middle;\n",
       "    }\n",
       "\n",
       "    .dataframe tbody tr th {\n",
       "        vertical-align: top;\n",
       "    }\n",
       "\n",
       "    .dataframe thead th {\n",
       "        text-align: right;\n",
       "    }\n",
       "</style>\n",
       "<table border=\"1\" class=\"dataframe\">\n",
       "  <thead>\n",
       "    <tr style=\"text-align: right;\">\n",
       "      <th></th>\n",
       "      <th>0</th>\n",
       "      <th>1</th>\n",
       "      <th>2</th>\n",
       "      <th>3</th>\n",
       "      <th>4</th>\n",
       "      <th>5</th>\n",
       "      <th>6</th>\n",
       "      <th>7</th>\n",
       "      <th>8</th>\n",
       "      <th>9</th>\n",
       "      <th>...</th>\n",
       "      <th>41</th>\n",
       "      <th>42</th>\n",
       "      <th>43</th>\n",
       "      <th>44</th>\n",
       "      <th>45</th>\n",
       "      <th>46</th>\n",
       "      <th>47</th>\n",
       "      <th>48</th>\n",
       "      <th>49</th>\n",
       "      <th>50</th>\n",
       "    </tr>\n",
       "  </thead>\n",
       "  <tbody>\n",
       "    <tr>\n",
       "      <th>0</th>\n",
       "      <td>0.917606</td>\n",
       "      <td>0.577402</td>\n",
       "      <td>1.0</td>\n",
       "      <td>1.0</td>\n",
       "      <td>0.0</td>\n",
       "      <td>0.49767</td>\n",
       "      <td>0.187329</td>\n",
       "      <td>0.064088</td>\n",
       "      <td>0.982593</td>\n",
       "      <td>1.0</td>\n",
       "      <td>...</td>\n",
       "      <td>0.975713</td>\n",
       "      <td>1.0</td>\n",
       "      <td>0.0</td>\n",
       "      <td>0.946163</td>\n",
       "      <td>0.484022</td>\n",
       "      <td>0.944197</td>\n",
       "      <td>0.000074</td>\n",
       "      <td>0.0</td>\n",
       "      <td>0.0</td>\n",
       "      <td>0.0</td>\n",
       "    </tr>\n",
       "    <tr>\n",
       "      <th>1</th>\n",
       "      <td>0.971946</td>\n",
       "      <td>0.579048</td>\n",
       "      <td>1.0</td>\n",
       "      <td>1.0</td>\n",
       "      <td>0.0</td>\n",
       "      <td>0.49767</td>\n",
       "      <td>0.186274</td>\n",
       "      <td>0.064088</td>\n",
       "      <td>0.982202</td>\n",
       "      <td>1.0</td>\n",
       "      <td>...</td>\n",
       "      <td>0.976686</td>\n",
       "      <td>1.0</td>\n",
       "      <td>0.0</td>\n",
       "      <td>0.945687</td>\n",
       "      <td>0.484022</td>\n",
       "      <td>0.943694</td>\n",
       "      <td>0.000074</td>\n",
       "      <td>0.0</td>\n",
       "      <td>0.0</td>\n",
       "      <td>0.0</td>\n",
       "    </tr>\n",
       "  </tbody>\n",
       "</table>\n",
       "<p>2 rows × 51 columns</p>\n",
       "</div>"
      ],
      "text/plain": [
       "         0         1    2    3    4        5         6         7         8   \\\n",
       "0  0.917606  0.577402  1.0  1.0  0.0  0.49767  0.187329  0.064088  0.982593   \n",
       "1  0.971946  0.579048  1.0  1.0  0.0  0.49767  0.186274  0.064088  0.982202   \n",
       "\n",
       "    9   ...        41   42   43        44        45        46        47   48  \\\n",
       "0  1.0  ...  0.975713  1.0  0.0  0.946163  0.484022  0.944197  0.000074  0.0   \n",
       "1  1.0  ...  0.976686  1.0  0.0  0.945687  0.484022  0.943694  0.000074  0.0   \n",
       "\n",
       "    49   50  \n",
       "0  0.0  0.0  \n",
       "1  0.0  0.0  \n",
       "\n",
       "[2 rows x 51 columns]"
      ]
     },
     "execution_count": 16,
     "metadata": {},
     "output_type": "execute_result"
    }
   ],
   "source": [
    "attack.head(2)"
   ]
  },
  {
   "cell_type": "markdown",
   "metadata": {
    "id": "xXJi503b-j_d"
   },
   "source": [
    "### Windows"
   ]
  },
  {
   "cell_type": "code",
   "execution_count": 17,
   "metadata": {
    "id": "vyplttZa-BRN"
   },
   "outputs": [],
   "source": [
    "window_size=12 # 논문 기준 K 값"
   ]
  },
  {
   "cell_type": "code",
   "execution_count": 18,
   "metadata": {
    "colab": {
     "base_uri": "https://localhost:8080/",
     "height": 34
    },
    "id": "dzGJMp6Y-BN5",
    "outputId": "2949d278-1313-442c-f06b-275a8c6c6578"
   },
   "outputs": [
    {
     "data": {
      "text/plain": [
       "(98988, 12, 51)"
      ]
     },
     "execution_count": 18,
     "metadata": {},
     "output_type": "execute_result"
    }
   ],
   "source": [
    "windows_normal=normal.values[np.arange(window_size)[None, :] + np.arange(normal.shape[0]-window_size)[:, None]]\n",
    "windows_normal.shape"
   ]
  },
  {
   "cell_type": "code",
   "execution_count": 19,
   "metadata": {
    "colab": {
     "base_uri": "https://localhost:8080/",
     "height": 34
    },
    "id": "17LdB3c8-pRH",
    "outputId": "721059d4-5937-4dd3-d73c-e5d255fc273c"
   },
   "outputs": [
    {
     "data": {
      "text/plain": [
       "(89972, 12, 51)"
      ]
     },
     "execution_count": 19,
     "metadata": {},
     "output_type": "execute_result"
    }
   ],
   "source": [
    "windows_attack=attack.values[np.arange(window_size)[None, :] + np.arange(attack.shape[0]-window_size)[:, None]]\n",
    "windows_attack.shape"
   ]
  },
  {
   "cell_type": "markdown",
   "metadata": {
    "id": "k70ZFxGs-_7m"
   },
   "source": [
    "## Training"
   ]
  },
  {
   "cell_type": "code",
   "execution_count": 20,
   "metadata": {
    "id": "yi9S0SGnDKNc"
   },
   "outputs": [],
   "source": [
    "import torch.utils.data as data_utils\n",
    "\n",
    "BATCH_SIZE =  7919\n",
    "N_EPOCHS = 25\n",
    "hidden_size = 40\n",
    "\n",
    "\n",
    "w_size=windows_normal.shape[1]*windows_normal.shape[2] # 12 x 51 = 612 \n",
    "z_size=windows_normal.shape[1]*hidden_size # 12 * 100 = 1200 (잠재벡터)\n",
    "\n",
    "\n",
    "windows_normal_train = windows_normal[:int(np.floor(.8 *  windows_normal.shape[0]))] # np.floor: 소수 부분을 버리고 주어진 수보다 같거나 작은 가장 큰 정수로 내림\n",
    "windows_normal_val = windows_normal[int(np.floor(.8 *  windows_normal.shape[0])):int(np.floor(windows_normal.shape[0]))]\n",
    "\n",
    "train_loader = torch.utils.data.DataLoader(data_utils.TensorDataset(\n",
    "    torch.from_numpy(windows_normal_train).float().view(([windows_normal_train.shape[0],w_size]))\n",
    ") , batch_size=BATCH_SIZE, shuffle=False, num_workers=0)\n",
    "\n",
    "val_loader = torch.utils.data.DataLoader(data_utils.TensorDataset(\n",
    "    torch.from_numpy(windows_normal_val).float().view(([windows_normal_val.shape[0],w_size]))\n",
    ") , batch_size=BATCH_SIZE, shuffle=False, num_workers=0)\n",
    "\n",
    "test_loader = torch.utils.data.DataLoader(data_utils.TensorDataset(\n",
    "    torch.from_numpy(windows_attack).float().view(([windows_attack.shape[0],w_size]))\n",
    ") , batch_size=BATCH_SIZE, shuffle=False, num_workers=0)\n",
    "\n",
    "model = UsadModel(w_size, z_size)\n",
    "model = to_device(model,device)"
   ]
  },
  {
   "cell_type": "code",
   "execution_count": 21,
   "metadata": {
    "colab": {
     "base_uri": "https://localhost:8080/",
     "height": 1000
    },
    "id": "So9yjDPEDObC",
    "outputId": "629bcd13-37b1-4907-ef0d-46d9e3ad5398",
    "scrolled": true
   },
   "outputs": [
    {
     "name": "stderr",
     "output_type": "stream",
     "text": [
      "C:\\Users\\ygeun\\AppData\\Local\\Packages\\PythonSoftwareFoundation.Python.3.11_qbz5n2kfra8p0\\LocalCache\\local-packages\\Python311\\site-packages\\tqdm\\auto.py:21: TqdmWarning: IProgress not found. Please update jupyter and ipywidgets. See https://ipywidgets.readthedocs.io/en/stable/user_install.html\n",
      "  from .autonotebook import tqdm as notebook_tqdm\n"
     ]
    },
    {
     "name": "stdout",
     "output_type": "stream",
     "text": [
      "epoch [0], val_epoch_loss1: 0.0479, val_epoch_loss2: 0.0471\n",
      "epoch [1], val_epoch_loss1: 0.0460, val_epoch_loss2: 0.0462\n",
      "epoch [2], val_epoch_loss1: 0.0412, val_epoch_loss2: 0.0413\n",
      "epoch [3], val_epoch_loss1: 0.0372, val_epoch_loss2: 0.0374\n",
      "epoch [4], val_epoch_loss1: 0.0350, val_epoch_loss2: 0.0352\n",
      "epoch [5], val_epoch_loss1: 0.0336, val_epoch_loss2: 0.0340\n",
      "epoch [6], val_epoch_loss1: 0.0331, val_epoch_loss2: 0.0336\n",
      "epoch [7], val_epoch_loss1: 0.0316, val_epoch_loss2: 0.0318\n",
      "epoch [8], val_epoch_loss1: 0.0342, val_epoch_loss2: 0.0346\n",
      "epoch [9], val_epoch_loss1: 0.0357, val_epoch_loss2: 0.0364\n",
      "epoch [10], val_epoch_loss1: 0.0344, val_epoch_loss2: 0.0349\n",
      "epoch [11], val_epoch_loss1: 0.0343, val_epoch_loss2: 0.0347\n",
      "epoch [12], val_epoch_loss1: 0.0340, val_epoch_loss2: 0.0343\n",
      "epoch [13], val_epoch_loss1: 0.0336, val_epoch_loss2: 0.0339\n",
      "epoch [14], val_epoch_loss1: 0.0336, val_epoch_loss2: 0.0338\n",
      "epoch [15], val_epoch_loss1: 0.0334, val_epoch_loss2: 0.0336\n",
      "epoch [16], val_epoch_loss1: 0.0332, val_epoch_loss2: 0.0334\n",
      "epoch [17], val_epoch_loss1: 0.0330, val_epoch_loss2: 0.0332\n",
      "epoch [18], val_epoch_loss1: 0.0333, val_epoch_loss2: 0.0335\n",
      "epoch [19], val_epoch_loss1: 0.0330, val_epoch_loss2: 0.0332\n",
      "epoch [20], val_epoch_loss1: 0.0351, val_epoch_loss2: 0.0354\n",
      "epoch [21], val_epoch_loss1: 0.0333, val_epoch_loss2: 0.0335\n",
      "epoch [22], val_epoch_loss1: 0.0339, val_epoch_loss2: 0.0342\n",
      "epoch [23], val_epoch_loss1: 0.0344, val_epoch_loss2: 0.0347\n",
      "epoch [24], val_epoch_loss1: 0.0328, val_epoch_loss2: 0.0331\n"
     ]
    }
   ],
   "source": [
    "history = training(N_EPOCHS,model,train_loader,val_loader)"
   ]
  },
  {
   "cell_type": "code",
   "execution_count": 25,
   "metadata": {
    "colab": {
     "base_uri": "https://localhost:8080/",
     "height": 295
    },
    "id": "fYwlN0JKVVtN",
    "outputId": "c742ff8b-3b4a-41f5-dd09-effee1be928a"
   },
   "outputs": [
    {
     "ename": "KeyError",
     "evalue": "'val_loss1'",
     "output_type": "error",
     "traceback": [
      "\u001b[1;31m---------------------------------------------------------------------------\u001b[0m",
      "\u001b[1;31mKeyError\u001b[0m                                  Traceback (most recent call last)",
      "Cell \u001b[1;32mIn[25], line 1\u001b[0m\n\u001b[1;32m----> 1\u001b[0m \u001b[43mplot_history\u001b[49m\u001b[43m(\u001b[49m\u001b[43mhistory\u001b[49m\u001b[43m)\u001b[49m\n",
      "File \u001b[1;32mc:\\Users\\ygeun\\workspace\\TSD_AD\\USAD\\utils.py:23\u001b[0m, in \u001b[0;36mplot_history\u001b[1;34m(history)\u001b[0m\n\u001b[0;32m     22\u001b[0m \u001b[38;5;28;01mdef\u001b[39;00m \u001b[38;5;21mplot_history\u001b[39m(history):\n\u001b[1;32m---> 23\u001b[0m     losses1 \u001b[38;5;241m=\u001b[39m \u001b[43m[\u001b[49m\u001b[43mx\u001b[49m\u001b[43m[\u001b[49m\u001b[38;5;124;43m'\u001b[39;49m\u001b[38;5;124;43mval_loss1\u001b[39;49m\u001b[38;5;124;43m'\u001b[39;49m\u001b[43m]\u001b[49m\u001b[43m \u001b[49m\u001b[38;5;28;43;01mfor\u001b[39;49;00m\u001b[43m \u001b[49m\u001b[43mx\u001b[49m\u001b[43m \u001b[49m\u001b[38;5;129;43;01min\u001b[39;49;00m\u001b[43m \u001b[49m\u001b[43mhistory\u001b[49m\u001b[43m]\u001b[49m\n\u001b[0;32m     24\u001b[0m     losses2 \u001b[38;5;241m=\u001b[39m [x[\u001b[38;5;124m'\u001b[39m\u001b[38;5;124mval_loss2\u001b[39m\u001b[38;5;124m'\u001b[39m] \u001b[38;5;28;01mfor\u001b[39;00m x \u001b[38;5;129;01min\u001b[39;00m history]\n\u001b[0;32m     25\u001b[0m     plt\u001b[38;5;241m.\u001b[39mplot(losses1, \u001b[38;5;124m'\u001b[39m\u001b[38;5;124m-x\u001b[39m\u001b[38;5;124m'\u001b[39m, label\u001b[38;5;241m=\u001b[39m\u001b[38;5;124m\"\u001b[39m\u001b[38;5;124mloss1\u001b[39m\u001b[38;5;124m\"\u001b[39m)\n",
      "File \u001b[1;32mc:\\Users\\ygeun\\workspace\\TSD_AD\\USAD\\utils.py:23\u001b[0m, in \u001b[0;36m<listcomp>\u001b[1;34m(.0)\u001b[0m\n\u001b[0;32m     22\u001b[0m \u001b[38;5;28;01mdef\u001b[39;00m \u001b[38;5;21mplot_history\u001b[39m(history):\n\u001b[1;32m---> 23\u001b[0m     losses1 \u001b[38;5;241m=\u001b[39m [\u001b[43mx\u001b[49m\u001b[43m[\u001b[49m\u001b[38;5;124;43m'\u001b[39;49m\u001b[38;5;124;43mval_loss1\u001b[39;49m\u001b[38;5;124;43m'\u001b[39;49m\u001b[43m]\u001b[49m \u001b[38;5;28;01mfor\u001b[39;00m x \u001b[38;5;129;01min\u001b[39;00m history]\n\u001b[0;32m     24\u001b[0m     losses2 \u001b[38;5;241m=\u001b[39m [x[\u001b[38;5;124m'\u001b[39m\u001b[38;5;124mval_loss2\u001b[39m\u001b[38;5;124m'\u001b[39m] \u001b[38;5;28;01mfor\u001b[39;00m x \u001b[38;5;129;01min\u001b[39;00m history]\n\u001b[0;32m     25\u001b[0m     plt\u001b[38;5;241m.\u001b[39mplot(losses1, \u001b[38;5;124m'\u001b[39m\u001b[38;5;124m-x\u001b[39m\u001b[38;5;124m'\u001b[39m, label\u001b[38;5;241m=\u001b[39m\u001b[38;5;124m\"\u001b[39m\u001b[38;5;124mloss1\u001b[39m\u001b[38;5;124m\"\u001b[39m)\n",
      "\u001b[1;31mKeyError\u001b[0m: 'val_loss1'"
     ]
    }
   ],
   "source": [
    "plot_history(history)"
   ]
  },
  {
   "cell_type": "code",
   "execution_count": null,
   "metadata": {
    "id": "ieObNqKYsOzh"
   },
   "outputs": [],
   "source": [
    "torch.save({\n",
    "            'encoder': model.encoder.state_dict(),\n",
    "            'decoder1': model.decoder1.state_dict(),\n",
    "            'decoder2': model.decoder2.state_dict()\n",
    "            }, \"model_SWaT.pth\")"
   ]
  },
  {
   "cell_type": "markdown",
   "metadata": {},
   "source": [
    "Another way to save the model"
   ]
  },
  {
   "cell_type": "code",
   "execution_count": null,
   "metadata": {},
   "outputs": [],
   "source": [
    "import pickle\n",
    "\n",
    "filename = 'usad_model_SWaT.sav'\n",
    "pickle.dump(model, open(filename, 'wb'))"
   ]
  },
  {
   "cell_type": "code",
   "execution_count": null,
   "metadata": {},
   "outputs": [],
   "source": [
    "loaded_model = pickle.load(open(filename, 'rb'))"
   ]
  },
  {
   "cell_type": "markdown",
   "metadata": {
    "id": "ymhjbmvR_DgJ"
   },
   "source": [
    "## Testing"
   ]
  },
  {
   "cell_type": "code",
   "execution_count": null,
   "metadata": {
    "colab": {
     "base_uri": "https://localhost:8080/",
     "height": 34
    },
    "id": "b7rbm9wdXKeF",
    "outputId": "076309c7-22be-41f6-f916-5f11cb679672"
   },
   "outputs": [
    {
     "data": {
      "text/plain": [
       "<All keys matched successfully>"
      ]
     },
     "execution_count": 26,
     "metadata": {},
     "output_type": "execute_result"
    }
   ],
   "source": [
    "checkpoint = torch.load(\"model_SWaT.pth\")\n",
    "\n",
    "model.encoder.load_state_dict(checkpoint['encoder'])\n",
    "model.decoder1.load_state_dict(checkpoint['decoder1'])\n",
    "model.decoder2.load_state_dict(checkpoint['decoder2'])"
   ]
  },
  {
   "cell_type": "code",
   "execution_count": null,
   "metadata": {
    "id": "Ry1QTp6V2ny4"
   },
   "outputs": [],
   "source": [
    "training_scores_list = training_scores(model,train_loader,val_loader)"
   ]
  },
  {
   "cell_type": "code",
   "execution_count": null,
   "metadata": {},
   "outputs": [],
   "source": [
    "training_scores_concat=np.concatenate([torch.stack(training_scores_list[:-1]).flatten().detach().cpu().numpy(),\n",
    "                            training_scores_list[-1].flatten().detach().cpu().numpy()])"
   ]
  },
  {
   "cell_type": "code",
   "execution_count": null,
   "metadata": {},
   "outputs": [
    {
     "name": "stdout",
     "output_type": "stream",
     "text": [
      "[0.29585147 0.29586977 0.29587924 ... 0.00982887 0.00981096 0.00978114]\n"
     ]
    }
   ],
   "source": [
    "\n",
    "print(training_scores_concat)"
   ]
  },
  {
   "cell_type": "code",
   "execution_count": null,
   "metadata": {
    "id": "FSWwxheNvxR7"
   },
   "outputs": [
    {
     "data": {
      "text/plain": [
       "0.008603299"
      ]
     },
     "execution_count": 30,
     "metadata": {},
     "output_type": "execute_result"
    }
   ],
   "source": [
    "min(training_scores_concat)"
   ]
  },
  {
   "cell_type": "code",
   "execution_count": null,
   "metadata": {},
   "outputs": [],
   "source": [
    "\n",
    "results=training_scores(model, test_loader) # testing"
   ]
  },
  {
   "cell_type": "code",
   "execution_count": null,
   "metadata": {},
   "outputs": [
    {
     "name": "stdout",
     "output_type": "stream",
     "text": [
      "[tensor([0.0097, 0.0097, 0.0097,  ..., 0.0111, 0.0110, 0.0110],\n",
      "       grad_fn=<AddBackward0>), tensor([0.0110, 0.0111, 0.0111,  ..., 0.0113, 0.0113, 0.0113],\n",
      "       grad_fn=<AddBackward0>), tensor([0.0113, 0.0113, 0.0113,  ..., 0.0683, 0.0683, 0.0682],\n",
      "       grad_fn=<AddBackward0>), tensor([0.0682, 0.0682, 0.0682,  ..., 0.0709, 0.0708, 0.0707],\n",
      "       grad_fn=<AddBackward0>), tensor([0.0707, 0.0707, 0.0708,  ..., 0.1522, 0.1507, 0.1490],\n",
      "       grad_fn=<AddBackward0>), tensor([0.1470, 0.1445, 0.1415,  ..., 0.5876, 0.5876, 0.5874],\n",
      "       grad_fn=<AddBackward0>), tensor([0.5873, 0.5872, 0.5872,  ..., 0.3593, 0.3563, 0.3530],\n",
      "       grad_fn=<AddBackward0>), tensor([0.3496, 0.3476, 0.3460,  ..., 0.3693, 0.3694, 0.3695],\n",
      "       grad_fn=<AddBackward0>), tensor([0.3696, 0.3696, 0.3697,  ..., 0.3599, 0.3597, 0.3597],\n",
      "       grad_fn=<AddBackward0>), tensor([0.3597, 0.3596, 0.3595,  ..., 0.4319, 0.4319, 0.4319],\n",
      "       grad_fn=<AddBackward0>), tensor([0.4319, 0.4318, 0.4319,  ..., 0.4213, 0.4213, 0.4213],\n",
      "       grad_fn=<AddBackward0>), tensor([0.4213, 0.4212, 0.4212,  ..., 0.4581, 0.4582, 0.4582],\n",
      "       grad_fn=<AddBackward0>)]\n"
     ]
    }
   ],
   "source": [
    "print(results)"
   ]
  },
  {
   "cell_type": "code",
   "execution_count": null,
   "metadata": {},
   "outputs": [],
   "source": [
    "\n",
    "windows_labels=[]\n",
    "for i in range(len(labels_down)-window_size):\n",
    "    windows_labels.append(list(np.int_(labels_down[i:i+window_size])))"
   ]
  },
  {
   "cell_type": "code",
   "execution_count": null,
   "metadata": {},
   "outputs": [],
   "source": [
    "\n",
    "y_test = [1.0 if (np.sum(window) > 0) else 0 for window in windows_labels]"
   ]
  },
  {
   "cell_type": "code",
   "execution_count": null,
   "metadata": {},
   "outputs": [],
   "source": [
    "\n",
    "y_pred=np.concatenate([torch.stack(results[:-1]).flatten().detach().cpu().numpy(),\n",
    "                            results[-1].flatten().detach().cpu().numpy()])"
   ]
  },
  {
   "cell_type": "code",
   "execution_count": null,
   "metadata": {},
   "outputs": [],
   "source": [
    "\n",
    "results_threshold=testing_threshold(model,test_loader,alpha=.5, beta=.5, contamination=0.10)"
   ]
  },
  {
   "cell_type": "code",
   "execution_count": null,
   "metadata": {},
   "outputs": [
    {
     "data": {
      "text/plain": [
       "0.45086807"
      ]
     },
     "execution_count": 37,
     "metadata": {},
     "output_type": "execute_result"
    }
   ],
   "source": [
    "\n",
    "results_threshold"
   ]
  },
  {
   "cell_type": "code",
   "execution_count": null,
   "metadata": {
    "colab": {
     "base_uri": "https://localhost:8080/",
     "height": 279
    },
    "id": "bROUyLM93cG3",
    "outputId": "755359d9-d0fb-4deb-b313-d3c2a2465a26"
   },
   "outputs": [
    {
     "data": {
      "image/png": "[encoded data removed]",
      "text/plain": [
       "<Figure size 640x480 with 1 Axes>"
      ]
     },
     "metadata": {},
     "output_type": "display_data"
    }
   ],
   "source": [
    "threshold=ROC(y_test,y_pred)"
   ]
  },
  {
   "cell_type": "code",
   "execution_count": null,
   "metadata": {},
   "outputs": [],
   "source": [
    "\n",
    "threshold=results_threshold # Decide on your own threshold\n",
    "y_pred_label = [1.0 if (score > threshold) else 0 for score in y_pred ]"
   ]
  },
  {
   "cell_type": "code",
   "execution_count": null,
   "metadata": {},
   "outputs": [
    {
     "name": "stdout",
     "output_type": "stream",
     "text": [
      "precision= 0.7483605646326553\n",
      "recall= 0.5941581362513236\n",
      "f1= 0.6624034630331054\n"
     ]
    }
   ],
   "source": [
    "from sklearn.metrics import precision_score, recall_score, f1_score, classification_report\n",
    "prec=precision_score(y_test,y_pred_label,pos_label=1)\n",
    "recall=recall_score(y_test,y_pred_label,pos_label=1)\n",
    "f1=f1_score(y_test,y_pred_label,pos_label=1)\n",
    "print('precision=',prec)\n",
    "print('recall=',recall)\n",
    "print('f1=',f1)\n"
   ]
  }
 ],
 "metadata": {
  "accelerator": "GPU",
  "colab": {
   "name": "USAD_test.ipynb",
   "provenance": [],
   "toc_visible": true
  },
  "kernelspec": {
   "display_name": "Python 3",
   "language": "python",
   "name": "python3"
  },
  "language_info": {
   "codemirror_mode": {
    "name": "ipython",
    "version": 3
   },
   "file_extension": ".py",
   "mimetype": "text/x-python",
   "name": "python",
   "nbconvert_exporter": "python",
   "pygments_lexer": "ipython3",
   "version": "3.11.9"
  }
 },
 "nbformat": 4,
 "nbformat_minor": 1
}
